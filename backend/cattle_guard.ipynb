{
  "cells": [
    {
      "cell_type": "code",
      "execution_count": null,
      "metadata": {
        "colab": {
          "base_uri": "https://localhost:8080/"
        },
        "id": "fXVhwsmotkwK",
        "outputId": "2b1f0b31-1d81-4466-e415-a847cbe6aa6c"
      },
      "outputs": [
        {
          "output_type": "stream",
          "name": "stdout",
          "text": [
            "Mounted at /content/drive\n"
          ]
        }
      ],
      "source": [
        "from google.colab import drive\n",
        "drive.mount('/content/drive')\n"
      ]
    },
    {
      "cell_type": "markdown",
      "metadata": {
        "id": "eRiwlQ0muxs5"
      },
      "source": [
        "**Import Necessary Libraries**"
      ]
    },
    {
      "cell_type": "code",
      "execution_count": null,
      "metadata": {
        "colab": {
          "base_uri": "https://localhost:8080/"
        },
        "id": "bp2zqxGTu1Jt",
        "outputId": "1b0e565b-6f80-458b-e318-88d3ceee5781"
      },
      "outputs": [
        {
          "output_type": "stream",
          "name": "stdout",
          "text": [
            "Libraries imported successfully!\n"
          ]
        }
      ],
      "source": [
        "import tensorflow as tf\n",
        "from tensorflow.keras.preprocessing.image import ImageDataGenerator\n",
        "import numpy as np\n",
        "import matplotlib.pyplot as plt\n",
        "import os\n",
        "print(\"Libraries imported successfully!\")\n"
      ]
    },
    {
      "cell_type": "markdown",
      "metadata": {
        "id": "VyCz9XUOvDde"
      },
      "source": [
        "**Define Dataset Paths**\n",
        "\n"
      ]
    },
    {
      "cell_type": "code",
      "execution_count": null,
      "metadata": {
        "colab": {
          "base_uri": "https://localhost:8080/"
        },
        "id": "Y8R-BalTvL-q",
        "outputId": "f0365a90-c480-4749-dc81-fdc87d8f39eb"
      },
      "outputs": [
        {
          "output_type": "stream",
          "name": "stdout",
          "text": [
            "Infected Path: /content/drive/MyDrive/lumpy_skin_dataset/archive/infected\n",
            "Normal Path: /content/drive/MyDrive/lumpy_skin_dataset/archive/normal\n"
          ]
        }
      ],
      "source": [
        "# Define the base path to the dataset\n",
        "base_path = '/content/drive/MyDrive/lumpy_skin_dataset/archive'\n",
        "\n",
        "# Define paths to infected and normal folders\n",
        "infected_path = os.path.join(base_path, 'infected')\n",
        "normal_path = os.path.join(base_path, 'normal')\n",
        "\n",
        "print(f\"Infected Path: {infected_path}\")\n",
        "print(f\"Normal Path: {normal_path}\")\n"
      ]
    },
    {
      "cell_type": "markdown",
      "metadata": {
        "id": "8N4CJ5E41Vmd"
      },
      "source": [
        " navigate to the dataset folder and list its contents:"
      ]
    },
    {
      "cell_type": "code",
      "execution_count": null,
      "metadata": {
        "colab": {
          "base_uri": "https://localhost:8080/"
        },
        "id": "2XqEDtJc1coM",
        "outputId": "2d0220f2-668e-4211-b940-46d9cacc4740"
      },
      "outputs": [
        {
          "output_type": "stream",
          "name": "stdout",
          "text": [
            "Drive already mounted at /content/drive; to attempt to forcibly remount, call drive.mount(\"/content/drive\", force_remount=True).\n"
          ]
        }
      ],
      "source": [
        "from google.colab import drive\n",
        "drive.mount('/content/drive')\n"
      ]
    },
    {
      "cell_type": "code",
      "execution_count": null,
      "metadata": {
        "colab": {
          "base_uri": "https://localhost:8080/"
        },
        "id": "0dij7e153M8A",
        "outputId": "72fd618f-6a99-45f5-8a13-7c0f49e08243"
      },
      "outputs": [
        {
          "output_type": "stream",
          "name": "stdout",
          "text": [
            "'AEC CLASS 1(C++)_copy.pdf'   'Document from Pranamya'\t\t lumpy_skin_dataset\n",
            "'atc notes.pdf'\t\t      'Document from Pranamya (1)'\t'mod 3 oops.gdoc'\n",
            "'cattle guard.gdoc'\t      'Document from Pranamya (1).pdf'\t'Module 00.gdoc'\n",
            "'Colab Notebooks'\t      'Document from Pranamya.gdoc'\t'os exam.gdoc'\n",
            "'computer organisation.gdoc'  'Document from Pranamya.pdf'\t pranamya.certificates2.pdf\n",
            "'Copy of Report.gdoc'\t      'GIT 2.gdoc'\t\t\t'Report (1).gdoc'\n",
            "'Dice web.gsheet'\t      'Grade book.gsheet'\t\t Report.gdoc\n"
          ]
        }
      ],
      "source": [
        "!ls /content/drive/MyDrive/\n"
      ]
    },
    {
      "cell_type": "code",
      "execution_count": null,
      "metadata": {
        "colab": {
          "base_uri": "https://localhost:8080/"
        },
        "id": "wxlQ5dIa3j_5",
        "outputId": "4151e5b1-32a1-4b44-c5d4-be41d154491e"
      },
      "outputs": [
        {
          "output_type": "stream",
          "name": "stdout",
          "text": [
            "'archive (1)'\n"
          ]
        }
      ],
      "source": [
        "!ls /content/drive/MyDrive/lumpy_skin_dataset/\n"
      ]
    },
    {
      "cell_type": "code",
      "execution_count": null,
      "metadata": {
        "colab": {
          "base_uri": "https://localhost:8080/"
        },
        "id": "OlbklmGU349U",
        "outputId": "5080995b-c7cc-4fcc-94ce-013a1750d1a4"
      },
      "outputs": [
        {
          "output_type": "stream",
          "name": "stdout",
          "text": [
            "infected  normal\n",
            "infected\n",
            "normal\n"
          ]
        }
      ],
      "source": [
        "# List the contents of the 'archive (1)' folder\n",
        "!ls /content/drive/MyDrive/lumpy_skin_dataset/archive\\ \\(1\\)/\n",
        "\n",
        "# Check the contents of the 'infected' and 'normal' folders\n",
        "!ls /content/drive/MyDrive/lumpy_skin_dataset/archive\\ \\(1\\)/infected/\n",
        "!ls /content/drive/MyDrive/lumpy_skin_dataset/archive\\ \\(1\\)/normal/\n"
      ]
    },
    {
      "cell_type": "code",
      "execution_count": null,
      "metadata": {
        "colab": {
          "base_uri": "https://localhost:8080/"
        },
        "id": "uEoXrDXr4ebs",
        "outputId": "7c01337c-a9c4-4af6-c708-092e8adb507f"
      },
      "outputs": [
        {
          "output_type": "stream",
          "name": "stdout",
          "text": [
            "Infected images count: 2000\n",
            "Normal images count: 2000\n"
          ]
        }
      ],
      "source": [
        "# Define the dataset paths for infected and normal folders\n",
        "infected_path = '/content/drive/MyDrive/lumpy_skin_dataset/archive (1)/infected/infected/'\n",
        "normal_path = '/content/drive/MyDrive/lumpy_skin_dataset/archive (1)/normal/normal/'\n",
        "\n",
        "# Verify the contents of both folders\n",
        "import os\n",
        "print(\"Infected images count:\", len(os.listdir(infected_path)))\n",
        "print(\"Normal images count:\", len(os.listdir(normal_path)))\n"
      ]
    },
    {
      "cell_type": "markdown",
      "metadata": {
        "id": "Ul7gBbuM8FvH"
      },
      "source": [
        "**Load and Preprocess the Data**\n"
      ]
    },
    {
      "cell_type": "code",
      "execution_count": null,
      "metadata": {
        "colab": {
          "base_uri": "https://localhost:8080/"
        },
        "id": "EfwORfPr8H0R",
        "outputId": "ec549875-a673-4d90-99bf-addcbe15a50e"
      },
      "outputs": [
        {
          "output_type": "stream",
          "name": "stdout",
          "text": [
            "Data loaded and preprocessed.\n",
            "Training data size: (3200, 128, 128, 3)\n",
            "Test data size: (800, 128, 128, 3)\n"
          ]
        }
      ],
      "source": [
        "import os\n",
        "import numpy as np\n",
        "import cv2\n",
        "from sklearn.model_selection import train_test_split\n",
        "from tensorflow.keras.utils import to_categorical\n",
        "\n",
        "# Function to load and preprocess the data\n",
        "def load_data(infected_path, normal_path, image_size=(128, 128)):\n",
        "    images = []\n",
        "    labels = []\n",
        "\n",
        "    # Load infected images\n",
        "    for img_name in os.listdir(infected_path):\n",
        "        img_path = os.path.join(infected_path, img_name)\n",
        "        img = cv2.imread(img_path)  # Read the image\n",
        "        img = cv2.resize(img, image_size)  # Resize the image to fixed size\n",
        "        img = img / 255.0  # Normalize the image\n",
        "        images.append(img)\n",
        "        labels.append(1)  # Label as infected (1)\n",
        "\n",
        "    # Load normal images\n",
        "    for img_name in os.listdir(normal_path):\n",
        "        img_path = os.path.join(normal_path, img_name)\n",
        "        img = cv2.imread(img_path)  # Read the image\n",
        "        img = cv2.resize(img, image_size)  # Resize the image to fixed size\n",
        "        img = img / 255.0  # Normalize the image\n",
        "        images.append(img)\n",
        "        labels.append(0)  # Label as normal (0)\n",
        "\n",
        "    return np.array(images), np.array(labels)\n",
        "\n",
        "# Load the data\n",
        "images, labels = load_data(infected_path, normal_path)\n",
        "\n",
        "# Split the dataset into training and testing sets\n",
        "X_train, X_test, y_train, y_test = train_test_split(images, labels, test_size=0.2, random_state=42)\n",
        "\n",
        "# One-hot encode the labels (optional)\n",
        "y_train = to_categorical(y_train, 2)\n",
        "y_test = to_categorical(y_test, 2)\n",
        "\n",
        "print(\"Data loaded and preprocessed.\")\n",
        "print(f\"Training data size: {X_train.shape}\")\n",
        "print(f\"Test data size: {X_test.shape}\")\n"
      ]
    },
    {
      "cell_type": "markdown",
      "source": [
        "# Building the CNN Model"
      ],
      "metadata": {
        "id": "KczJ_aRvphIb"
      }
    },
    {
      "cell_type": "markdown",
      "source": [
        "**Import Required Libraries**"
      ],
      "metadata": {
        "id": "SNkuLHqXqLgo"
      }
    },
    {
      "cell_type": "code",
      "source": [
        "from tensorflow.keras.models import Sequential\n",
        "from tensorflow.keras.layers import Conv2D, MaxPooling2D, Flatten, Dense, Dropout\n",
        "from tensorflow.keras.utils import to_categorical\n"
      ],
      "metadata": {
        "id": "6kFRk3sfpdML"
      },
      "execution_count": null,
      "outputs": []
    },
    {
      "cell_type": "markdown",
      "source": [
        "**Define the CNN Model Architecture**"
      ],
      "metadata": {
        "id": "Vkb95zN0qp-W"
      }
    },
    {
      "cell_type": "code",
      "source": [
        "from tensorflow.keras.models import Sequential\n",
        "from tensorflow.keras.layers import Conv2D, MaxPooling2D, Flatten, Dense\n",
        "\n",
        "model = Sequential([\n",
        "    Conv2D(32, (3, 3), activation='relu', input_shape=(128, 128, 3)),\n",
        "    MaxPooling2D((2, 2)),\n",
        "    Conv2D(64, (3, 3), activation='relu'),\n",
        "    MaxPooling2D((2, 2)),\n",
        "    Flatten(),\n",
        "    Dense(64, activation='relu'),\n",
        "    Dense(1, activation='sigmoid')  # Adjusted for binary classification\n",
        "])\n"
      ],
      "metadata": {
        "colab": {
          "base_uri": "https://localhost:8080/"
        },
        "id": "mv97r28Aqs2t",
        "outputId": "93d3ed07-6902-47fc-8467-d80fca621a4d"
      },
      "execution_count": null,
      "outputs": [
        {
          "output_type": "stream",
          "name": "stderr",
          "text": [
            "/usr/local/lib/python3.10/dist-packages/keras/src/layers/convolutional/base_conv.py:107: UserWarning: Do not pass an `input_shape`/`input_dim` argument to a layer. When using Sequential models, prefer using an `Input(shape)` object as the first layer in the model instead.\n",
            "  super().__init__(activity_regularizer=activity_regularizer, **kwargs)\n"
          ]
        }
      ]
    },
    {
      "cell_type": "markdown",
      "source": [
        "**Compile the Model**\n"
      ],
      "metadata": {
        "id": "mal5WUMkq-sQ"
      }
    },
    {
      "cell_type": "code",
      "source": [
        "model.compile(\n",
        "    optimizer='adam',\n",
        "    loss='binary_crossentropy',\n",
        "    metrics=['accuracy']\n",
        ")\n"
      ],
      "metadata": {
        "id": "TXJyUrk-rCcH"
      },
      "execution_count": null,
      "outputs": []
    },
    {
      "cell_type": "markdown",
      "source": [
        "**Train the Model**\n"
      ],
      "metadata": {
        "id": "ycLwOWItrNVm"
      }
    },
    {
      "cell_type": "code",
      "source": [
        "try:\n",
        "    print(f\"X_train shape: {X_train.shape}\")\n",
        "    print(f\"y_train shape: {y_train.shape}\")\n",
        "except NameError:\n",
        "    print(\"Variables not defined. Re-run preprocessing steps.\")\n"
      ],
      "metadata": {
        "colab": {
          "base_uri": "https://localhost:8080/"
        },
        "id": "3tmhQicirPJZ",
        "outputId": "a2310197-bf69-4cef-9547-4c91163a0b02"
      },
      "execution_count": null,
      "outputs": [
        {
          "output_type": "stream",
          "name": "stdout",
          "text": [
            "X_train shape: (3200, 128, 128, 3)\n",
            "y_train shape: (3200, 2)\n"
          ]
        }
      ]
    },
    {
      "cell_type": "code",
      "source": [
        "# Fix the labels to be binary (0 or 1) instead of one-hot encoded\n",
        "y_train = np.argmax(y_train, axis=1) if len(y_train.shape) > 1 else y_train\n",
        "y_test = np.argmax(y_test, axis=1) if len(y_test.shape) > 1 else y_test\n",
        "\n",
        "# Check the shapes and unique values to confirm\n",
        "print(f\"y_train shape: {y_train.shape}, unique values: {np.unique(y_train)}\")\n",
        "print(f\"y_test shape: {y_test.shape}, unique values: {np.unique(y_test)}\")\n"
      ],
      "metadata": {
        "colab": {
          "base_uri": "https://localhost:8080/"
        },
        "id": "_eHxZB_ZvkUA",
        "outputId": "81fc0de6-8a82-4fd6-f24f-f0d0917675bb"
      },
      "execution_count": null,
      "outputs": [
        {
          "output_type": "stream",
          "name": "stdout",
          "text": [
            "y_train shape: (3200,), unique values: [0 1]\n",
            "y_test shape: (800,), unique values: [0 1]\n"
          ]
        }
      ]
    },
    {
      "cell_type": "code",
      "source": [
        "history = model.fit(\n",
        "    X_train, y_train,  # Training data and labels\n",
        "    validation_data=(X_test, y_test),  # Validation data and labels\n",
        "    epochs=10,  # Adjust if needed\n",
        "    batch_size=32\n",
        ")\n"
      ],
      "metadata": {
        "colab": {
          "base_uri": "https://localhost:8080/"
        },
        "id": "esOwocNqxOuy",
        "outputId": "e771e543-68c4-47a7-d075-a9d3b5828e43"
      },
      "execution_count": null,
      "outputs": [
        {
          "output_type": "stream",
          "name": "stdout",
          "text": [
            "Epoch 1/10\n",
            "\u001b[1m100/100\u001b[0m \u001b[32m━━━━━━━━━━━━━━━━━━━━\u001b[0m\u001b[37m\u001b[0m \u001b[1m9s\u001b[0m 28ms/step - accuracy: 0.8385 - loss: 0.3933 - val_accuracy: 0.9875 - val_loss: 0.0581\n",
            "Epoch 2/10\n",
            "\u001b[1m100/100\u001b[0m \u001b[32m━━━━━━━━━━━━━━━━━━━━\u001b[0m\u001b[37m\u001b[0m \u001b[1m5s\u001b[0m 18ms/step - accuracy: 0.9841 - loss: 0.0476 - val_accuracy: 0.9712 - val_loss: 0.0953\n",
            "Epoch 3/10\n",
            "\u001b[1m100/100\u001b[0m \u001b[32m━━━━━━━━━━━━━━━━━━━━\u001b[0m\u001b[37m\u001b[0m \u001b[1m2s\u001b[0m 18ms/step - accuracy: 0.9837 - loss: 0.0382 - val_accuracy: 0.9825 - val_loss: 0.0498\n",
            "Epoch 4/10\n",
            "\u001b[1m100/100\u001b[0m \u001b[32m━━━━━━━━━━━━━━━━━━━━\u001b[0m\u001b[37m\u001b[0m \u001b[1m2s\u001b[0m 16ms/step - accuracy: 0.9949 - loss: 0.0195 - val_accuracy: 0.9800 - val_loss: 0.0770\n",
            "Epoch 5/10\n",
            "\u001b[1m100/100\u001b[0m \u001b[32m━━━━━━━━━━━━━━━━━━━━\u001b[0m\u001b[37m\u001b[0m \u001b[1m2s\u001b[0m 18ms/step - accuracy: 0.9958 - loss: 0.0152 - val_accuracy: 0.9812 - val_loss: 0.0765\n",
            "Epoch 6/10\n",
            "\u001b[1m100/100\u001b[0m \u001b[32m━━━━━━━━━━━━━━━━━━━━\u001b[0m\u001b[37m\u001b[0m \u001b[1m2s\u001b[0m 18ms/step - accuracy: 0.9931 - loss: 0.0178 - val_accuracy: 0.9725 - val_loss: 0.0948\n",
            "Epoch 7/10\n",
            "\u001b[1m100/100\u001b[0m \u001b[32m━━━━━━━━━━━━━━━━━━━━\u001b[0m\u001b[37m\u001b[0m \u001b[1m2s\u001b[0m 16ms/step - accuracy: 0.9989 - loss: 0.0037 - val_accuracy: 0.9787 - val_loss: 0.0828\n",
            "Epoch 8/10\n",
            "\u001b[1m100/100\u001b[0m \u001b[32m━━━━━━━━━━━━━━━━━━━━\u001b[0m\u001b[37m\u001b[0m \u001b[1m3s\u001b[0m 16ms/step - accuracy: 1.0000 - loss: 0.0012 - val_accuracy: 0.9762 - val_loss: 0.1107\n",
            "Epoch 9/10\n",
            "\u001b[1m100/100\u001b[0m \u001b[32m━━━━━━━━━━━━━━━━━━━━\u001b[0m\u001b[37m\u001b[0m \u001b[1m3s\u001b[0m 17ms/step - accuracy: 1.0000 - loss: 4.8383e-04 - val_accuracy: 0.9762 - val_loss: 0.0979\n",
            "Epoch 10/10\n",
            "\u001b[1m100/100\u001b[0m \u001b[32m━━━━━━━━━━━━━━━━━━━━\u001b[0m\u001b[37m\u001b[0m \u001b[1m2s\u001b[0m 17ms/step - accuracy: 1.0000 - loss: 3.0131e-04 - val_accuracy: 0.9775 - val_loss: 0.1072\n"
          ]
        }
      ]
    },
    {
      "cell_type": "markdown",
      "source": [
        "**testing**"
      ],
      "metadata": {
        "id": "EN6rLUlDz-Tk"
      }
    },
    {
      "cell_type": "code",
      "source": [
        "test_loss, test_accuracy = model.evaluate(X_test, y_test)\n",
        "print(f\"Test Accuracy: {test_accuracy * 100:.2f}%\")\n",
        "print(f\"Test Loss: {test_loss:.4f}\")\n"
      ],
      "metadata": {
        "colab": {
          "base_uri": "https://localhost:8080/"
        },
        "id": "W4VFvpYqzpEU",
        "outputId": "d134b276-29f1-409d-e1c0-78d7d74a312b"
      },
      "execution_count": null,
      "outputs": [
        {
          "output_type": "stream",
          "name": "stdout",
          "text": [
            "\u001b[1m25/25\u001b[0m \u001b[32m━━━━━━━━━━━━━━━━━━━━\u001b[0m\u001b[37m\u001b[0m \u001b[1m0s\u001b[0m 6ms/step - accuracy: 0.9748 - loss: 0.1313\n",
            "Test Accuracy: 97.75%\n",
            "Test Loss: 0.1072\n"
          ]
        }
      ]
    },
    {
      "cell_type": "code",
      "source": [
        "import matplotlib.pyplot as plt\n",
        "\n",
        "# Plot training & validation accuracy values\n",
        "plt.plot(history.history['accuracy'])\n",
        "plt.plot(history.history['val_accuracy'])\n",
        "plt.title('Model Accuracy')\n",
        "plt.xlabel('Epoch')\n",
        "plt.ylabel('Accuracy')\n",
        "plt.legend(['Train', 'Test'], loc='upper left')\n",
        "plt.show()\n",
        "\n",
        "# Plot training & validation loss values\n",
        "plt.plot(history.history['loss'])\n",
        "plt.plot(history.history['val_loss'])\n",
        "plt.title('Model Loss')\n",
        "plt.xlabel('Epoch')\n",
        "plt.ylabel('Loss')\n",
        "plt.legend(['Train', 'Test'], loc='upper left')\n",
        "plt.show()\n"
      ],
      "metadata": {
        "colab": {
          "base_uri": "https://localhost:8080/",
          "height": 927
        },
        "id": "i9LHSZG_z8aW",
        "outputId": "3ee080ec-cdb8-44c0-9a84-80a52a47396d"
      },
      "execution_count": null,
      "outputs": [
        {
          "output_type": "display_data",
          "data": {
            "text/plain": [
              "<Figure size 640x480 with 1 Axes>"
            ],
            "image/png": "[encoded data removed]"
          },
          "metadata": {}
        },
        {
          "output_type": "display_data",
          "data": {
            "text/plain": [
              "<Figure size 640x480 with 1 Axes>"
            ],
            "image/png": "[encoded data removed]"
          },
          "metadata": {}
        }
      ]
    },
    {
      "cell_type": "markdown",
      "source": [
        "**Model Evaluation**"
      ],
      "metadata": {
        "id": "nEBV6ocK0-sc"
      }
    },
    {
      "cell_type": "code",
      "source": [
        "# Evaluate the model on the test data\n",
        "test_loss, test_accuracy = model.evaluate(X_test, y_test)\n",
        "\n",
        "# Print the test accuracy and loss\n",
        "print(f\"Test Accuracy: {test_accuracy*100:.2f}%\")\n",
        "print(f\"Test Loss: {test_loss:.4f}\")\n"
      ],
      "metadata": {
        "colab": {
          "base_uri": "https://localhost:8080/"
        },
        "id": "8X7RnWf91CYP",
        "outputId": "9591c581-7fd3-42f7-f703-7dd4aeced310"
      },
      "execution_count": null,
      "outputs": [
        {
          "output_type": "stream",
          "name": "stdout",
          "text": [
            "\u001b[1m25/25\u001b[0m \u001b[32m━━━━━━━━━━━━━━━━━━━━\u001b[0m\u001b[37m\u001b[0m \u001b[1m0s\u001b[0m 8ms/step - accuracy: 0.9748 - loss: 0.1313\n",
            "Test Accuracy: 97.75%\n",
            "Test Loss: 0.1072\n"
          ]
        }
      ]
    },
    {
      "cell_type": "markdown",
      "source": [
        "**Save Model**"
      ],
      "metadata": {
        "id": "6vhRU-iO1KdN"
      }
    },
    {
      "cell_type": "code",
      "source": [
        "# Save the model to a file\n",
        "model.save('my_model.h5')\n",
        "\n",
        "print(\"Model saved successfully.\")\n"
      ],
      "metadata": {
        "colab": {
          "base_uri": "https://localhost:8080/"
        },
        "id": "5YHRoFeT1MxK",
        "outputId": "2844a709-58ab-4a36-c3d8-cbb46fc33999"
      },
      "execution_count": null,
      "outputs": [
        {
          "output_type": "stream",
          "name": "stderr",
          "text": [
            "WARNING:absl:You are saving your model as an HDF5 file via `model.save()` or `keras.saving.save_model(model)`. This file format is considered legacy. We recommend using instead the native Keras format, e.g. `model.save('my_model.keras')` or `keras.saving.save_model(model, 'my_model.keras')`. \n"
          ]
        },
        {
          "output_type": "stream",
          "name": "stdout",
          "text": [
            "Model saved successfully.\n"
          ]
        }
      ]
    },
    {
      "cell_type": "code",
      "source": [
        "# Save the model in the newer .keras format\n",
        "model.save('my_model.keras')\n",
        "\n",
        "print(\"Model saved successfully in the .keras format.\")\n"
      ],
      "metadata": {
        "colab": {
          "base_uri": "https://localhost:8080/"
        },
        "id": "Y7xvNRpv1Vvy",
        "outputId": "ff7fb17e-2465-4c09-f31a-23968a621790"
      },
      "execution_count": null,
      "outputs": [
        {
          "output_type": "stream",
          "name": "stdout",
          "text": [
            "Model saved successfully in the .keras format.\n"
          ]
        }
      ]
    },
    {
      "cell_type": "code",
      "source": [
        "from tensorflow.keras.models import load_model\n",
        "\n",
        "# Load the saved model\n",
        "model = load_model('my_model.keras')  # or 'my_model.h5'\n",
        "\n",
        "print(\"Model loaded successfully.\")\n"
      ],
      "metadata": {
        "colab": {
          "base_uri": "https://localhost:8080/"
        },
        "id": "iMUQd_z61Zz5",
        "outputId": "99ca68d3-b309-4f39-f5f7-fec636f23e65"
      },
      "execution_count": null,
      "outputs": [
        {
          "output_type": "stream",
          "name": "stdout",
          "text": [
            "Model loaded successfully.\n"
          ]
        },
        {
          "output_type": "stream",
          "name": "stderr",
          "text": [
            "/usr/local/lib/python3.10/dist-packages/keras/src/saving/saving_lib.py:713: UserWarning: Skipping variable loading for optimizer 'rmsprop', because it has 10 variables whereas the saved optimizer has 18 variables. \n",
            "  saveable.load_own_variables(weights_store.get(inner_path))\n"
          ]
        }
      ]
    },
    {
      "cell_type": "code",
      "source": [
        "test_loss, test_accuracy = model.evaluate(X_test, y_test)\n",
        "print(f\"Test Accuracy: {test_accuracy * 100:.2f}%\")\n",
        "print(f\"Test Loss: {test_loss:.4f}\")\n"
      ],
      "metadata": {
        "colab": {
          "base_uri": "https://localhost:8080/"
        },
        "id": "fSB5-IBi1s9v",
        "outputId": "59586a85-b0ba-43bf-e57c-7b7b2d54e6d6"
      },
      "execution_count": null,
      "outputs": [
        {
          "output_type": "stream",
          "name": "stdout",
          "text": [
            "\u001b[1m25/25\u001b[0m \u001b[32m━━━━━━━━━━━━━━━━━━━━\u001b[0m\u001b[37m\u001b[0m \u001b[1m1s\u001b[0m 8ms/step - accuracy: 0.9748 - loss: 0.1313\n",
            "Test Accuracy: 97.75%\n",
            "Test Loss: 0.1072\n"
          ]
        }
      ]
    },
    {
      "cell_type": "code",
      "source": [
        "predictions = model.predict(X_test)\n",
        "print(predictions[:5])  # Print first 5 predictions\n"
      ],
      "metadata": {
        "colab": {
          "base_uri": "https://localhost:8080/"
        },
        "id": "uH4n2VHo1xHU",
        "outputId": "09df21e8-6779-4086-9a93-8da545b4c183"
      },
      "execution_count": null,
      "outputs": [
        {
          "output_type": "stream",
          "name": "stdout",
          "text": [
            "\u001b[1m25/25\u001b[0m \u001b[32m━━━━━━━━━━━━━━━━━━━━\u001b[0m\u001b[37m\u001b[0m \u001b[1m0s\u001b[0m 5ms/step\n",
            "[[1.0000000e+00]\n",
            " [3.2908900e-04]\n",
            " [1.0000000e+00]\n",
            " [2.6645732e-14]\n",
            " [5.4882149e-10]]\n"
          ]
        }
      ]
    },
    {
      "cell_type": "code",
      "source": [
        "# Save the model as a .h5 file (you can change the filename if you prefer)\n",
        "model.save('my_model.h5')\n"
      ],
      "metadata": {
        "colab": {
          "base_uri": "https://localhost:8080/"
        },
        "id": "Dd0-5Nx62-OF",
        "outputId": "48fc8735-1b40-48ae-d0ae-82f27c735e2f"
      },
      "execution_count": null,
      "outputs": [
        {
          "output_type": "stream",
          "name": "stderr",
          "text": [
            "WARNING:absl:You are saving your model as an HDF5 file via `model.save()` or `keras.saving.save_model(model)`. This file format is considered legacy. We recommend using instead the native Keras format, e.g. `model.save('my_model.keras')` or `keras.saving.save_model(model, 'my_model.keras')`. \n"
          ]
        }
      ]
    },
    {
      "cell_type": "code",
      "source": [
        "model.save('my_model.keras')\n"
      ],
      "metadata": {
        "id": "XhHuZmOB3HIA"
      },
      "execution_count": null,
      "outputs": []
    },
    {
      "cell_type": "code",
      "source": [
        "from tensorflow.keras.models import load_model\n",
        "model = load_model('my_model.keras')\n"
      ],
      "metadata": {
        "id": "wJS7cE9F3S1e"
      },
      "execution_count": null,
      "outputs": []
    },
    {
      "cell_type": "code",
      "source": [
        "from google.colab import files\n",
        "files.download('my_model.keras')\n"
      ],
      "metadata": {
        "colab": {
          "base_uri": "https://localhost:8080/",
          "height": 17
        },
        "id": "z9DQBNtJAiHp",
        "outputId": "5704ecfb-e60d-422b-95ba-f58b8f4562ed"
      },
      "execution_count": null,
      "outputs": [
        {
          "output_type": "display_data",
          "data": {
            "text/plain": [
              "<IPython.core.display.Javascript object>"
            ],
            "application/javascript": [
              "\n",
              "    async function download(id, filename, size) {\n",
              "      if (!google.colab.kernel.accessAllowed) {\n",
              "        return;\n",
              "      }\n",
              "      const div = document.createElement('div');\n",
              "      const label = document.createElement('label');\n",
              "      label.textContent = `Downloading \"${filename}\": `;\n",
              "      div.appendChild(label);\n",
              "      const progress = document.createElement('progress');\n",
              "      progress.max = size;\n",
              "      div.appendChild(progress);\n",
              "      document.body.appendChild(div);\n",
              "\n",
              "      const buffers = [];\n",
              "      let downloaded = 0;\n",
              "\n",
              "      const channel = await google.colab.kernel.comms.open(id);\n",
              "      // Send a message to notify the kernel that we're ready.\n",
              "      channel.send({})\n",
              "\n",
              "      for await (const message of channel.messages) {\n",
              "        // Send a message to notify the kernel that we're ready.\n",
              "        channel.send({})\n",
              "        if (message.buffers) {\n",
              "          for (const buffer of message.buffers) {\n",
              "            buffers.push(buffer);\n",
              "            downloaded += buffer.byteLength;\n",
              "            progress.value = downloaded;\n",
              "          }\n",
              "        }\n",
              "      }\n",
              "      const blob = new Blob(buffers, {type: 'application/binary'});\n",
              "      const a = document.createElement('a');\n",
              "      a.href = window.URL.createObjectURL(blob);\n",
              "      a.download = filename;\n",
              "      div.appendChild(a);\n",
              "      a.click();\n",
              "      div.remove();\n",
              "    }\n",
              "  "
            ]
          },
          "metadata": {}
        },
        {
          "output_type": "display_data",
          "data": {
            "text/plain": [
              "<IPython.core.display.Javascript object>"
            ],
            "application/javascript": [
              "download(\"download_6eb87e6c-b9a7-4f82-b388-346bd070005b\", \"my_model.keras\", 29676679)"
            ]
          },
          "metadata": {}
        }
      ]
    }
  ],
  "metadata": {
    "accelerator": "GPU",
    "colab": {
      "gpuType": "T4",
      "provenance": []
    },
    "kernelspec": {
      "display_name": "Python 3",
      "name": "python3"
    },
    "language_info": {
      "name": "python"
    }
  },
  "nbformat": 4,
  "nbformat_minor": 0
}